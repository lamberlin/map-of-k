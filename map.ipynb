{
 "cells": [
  {
   "cell_type": "code",
   "execution_count": null,
   "metadata": {},
   "outputs": [],
   "source": [
    "import folium\n",
    "import pandas as pd\n",
    "import branca\n",
    "from folium import IFrame\n",
    "\n",
    "# Load your data\n",
    "site_data = pd.read_csv(r\"./segments_site_k_values.csv\")\n",
    "\n",
    "# Create a colormap for the k values\n",
    "min_k = site_data['k1'].min()\n",
    "max_k = site_data['k1'].max()\n",
    "colormap = branca.colormap.linear.RdBu_11.scale(min_k, max_k)\n",
    "\n",
    "# Create a base map centered around Guatemala\n",
    "m = folium.Map(location=[15.7835, -90.2308], zoom_start=6, tiles='Stamen Terrain', min_zoom=2, max_zoom=16)\n",
    "\n",
    "# Directory containing the plots\n",
    "plot_dir = \"./segments_site_plots/\"\n",
    "\n",
    "# Add your sites to the map\n",
    "for _, row in site_data.iterrows():\n",
    "    color = colormap(row['k1'])\n",
    "    \n",
    "    # Construct the path to the plot image for the site\n",
    "    plot_path = plot_dir + f\"growth_curve_{row['codigoparc']}.png\"\n",
    "    \n",
    "    # Create a string combining the popup content and the image\n",
    "    popup_content = f\"\"\"\n",
    "    Site: {row['codigoparc']}<br>\n",
    "    Species: {row['Especie']}<br>\n",
    "    k: {row['k1']}<br>\n",
    "    <img src=\"{plot_path}\" alt=\"site_plot\" width=\"300\">\n",
    "    \"\"\"\n",
    "    \n",
    "    folium.CircleMarker(\n",
    "        location=[row['Y'], row['X']],\n",
    "        radius=5,\n",
    "        color=color,\n",
    "        fill=True,\n",
    "        fill_color=color,\n",
    "        fill_opacity=0.6,\n",
    "        popup=folium.Popup(popup_content, max_width=310) # you can adjust the max_width if needed\n",
    "    ).add_to(m)\n",
    "\n",
    "# Add the color map legend to the map\n",
    "colormap.caption = \"k Value\"\n",
    "colormap.add_to(m)\n",
    "\n",
    "# Display the map\n",
    "m\n"
   ]
  }
 ],
 "metadata": {
  "kernelspec": {
   "display_name": "py39",
   "language": "python",
   "name": "py39"
  },
  "language_info": {
   "codemirror_mode": {
    "name": "ipython",
    "version": 3
   },
   "file_extension": ".py",
   "mimetype": "text/x-python",
   "name": "python",
   "nbconvert_exporter": "python",
   "pygments_lexer": "ipython3",
   "version": "3.9.16"
  }
 },
 "nbformat": 4,
 "nbformat_minor": 4
}
